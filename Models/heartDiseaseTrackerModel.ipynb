{
 "cells": [
  {
   "cell_type": "code",
   "execution_count": 31,
   "metadata": {},
   "outputs": [],
   "source": [
    "import numpy as np\n",
    "import pandas as pd\n",
    "import torch \n",
    "import torch.nn as nn\n",
    "import torch.optim as optim \n",
    "from sklearn.preprocessing import StandardScaler, LabelEncoder    \n",
    "from sklearn.model_selection import train_test_split    \n",
    "import kaggle\n",
    "from pathlib import Path\n",
    "import joblib\n",
    "from HelperFunction import helperFunctions as hp\n",
    "from torch.utils.data import DataLoader as dl"
   ]
  },
  {
   "cell_type": "code",
   "execution_count": 17,
   "metadata": {},
   "outputs": [
    {
     "name": "stdout",
     "output_type": "stream",
     "text": [
      "Dataset file found: c:\\MachineLearning\\DiseaseAndCancerTrackers\\dataset\\heart.csv\n"
     ]
    }
   ],
   "source": [
    "basePath = Path.cwd().parent\n",
    "csvFilePath = basePath / 'dataset' / 'heart.csv'\n",
    "\n",
    "if not csvFilePath.exists():\n",
    "    kaggle.api.dataset_download_files(\"johnsmith88/heart-disease-dataset\", path=basePath / 'dataset', unzip=True)\n",
    "else:\n",
    "    print(f\"Dataset file found: {csvFilePath}\")"
   ]
  },
  {
   "cell_type": "code",
   "execution_count": 18,
   "metadata": {},
   "outputs": [
    {
     "name": "stdout",
     "output_type": "stream",
     "text": [
      "   age  sex  cp  trestbps  chol  fbs  restecg  thalach  exang  oldpeak  slope  \\\n",
      "0   52    1   0       125   212    0        1      168      0      1.0      2   \n",
      "1   53    1   0       140   203    1        0      155      1      3.1      0   \n",
      "2   70    1   0       145   174    0        1      125      1      2.6      0   \n",
      "3   61    1   0       148   203    0        1      161      0      0.0      2   \n",
      "4   62    0   0       138   294    1        1      106      0      1.9      1   \n",
      "\n",
      "   ca  thal  target  \n",
      "0   2     3       0  \n",
      "1   0     3       0  \n",
      "2   0     3       0  \n",
      "3   1     3       0  \n",
      "4   3     2       0  \n"
     ]
    }
   ],
   "source": [
    "dataset = pd.read_csv(csvFilePath)\n",
    "df = pd.DataFrame(dataset)\n",
    "print(df.head())"
   ]
  },
  {
   "cell_type": "code",
   "execution_count": 19,
   "metadata": {},
   "outputs": [
    {
     "name": "stdout",
     "output_type": "stream",
     "text": [
      "age: [52 53 70 61 62 58 55 46 54 71 43 34 51 50 60 67 45 63 42 44 56 57 59 64\n",
      " 65 41 66 38 49 48 29 37 47 68 76 40 39 77 69 35 74]\n",
      "Maximum:  77\n",
      "Minimum:  29\n",
      "--------------------------------------------------\n",
      "sex: [1 0]\n",
      "Maximum:  1\n",
      "Minimum:  0\n",
      "--------------------------------------------------\n",
      "cp: [0 1 2 3]\n",
      "Maximum:  3\n",
      "Minimum:  0\n",
      "--------------------------------------------------\n",
      "trestbps: [125 140 145 148 138 100 114 160 120 122 112 132 118 128 124 106 104 135\n",
      " 130 136 180 129 150 178 146 117 152 154 170 134 174 144 108 123 110 142\n",
      " 126 192 115  94 200 165 102 105 155 172 164 156 101]\n",
      "Maximum:  200\n",
      "Minimum:  94\n",
      "--------------------------------------------------\n",
      "chol: [212 203 174 294 248 318 289 249 286 149 341 210 298 204 308 266 244 211\n",
      " 185 223 208 252 209 307 233 319 256 327 169 131 269 196 231 213 271 263\n",
      " 229 360 258 330 342 226 228 278 230 283 241 175 188 217 193 245 232 299\n",
      " 288 197 315 215 164 326 207 177 257 255 187 201 220 268 267 236 303 282\n",
      " 126 309 186 275 281 206 335 218 254 295 417 260 240 302 192 225 325 235\n",
      " 274 234 182 167 172 321 300 199 564 157 304 222 184 354 160 247 239 246\n",
      " 409 293 180 250 221 200 227 243 311 261 242 205 306 219 353 198 394 183\n",
      " 237 224 265 313 340 259 270 216 264 276 322 214 273 253 176 284 305 168\n",
      " 407 290 277 262 195 166 178 141]\n",
      "Maximum:  564\n",
      "Minimum:  126\n",
      "--------------------------------------------------\n",
      "fbs: [0 1]\n",
      "Maximum:  1\n",
      "Minimum:  0\n",
      "--------------------------------------------------\n",
      "restecg: [1 0 2]\n",
      "Maximum:  2\n",
      "Minimum:  0\n",
      "--------------------------------------------------\n",
      "thalach: [168 155 125 161 106 122 140 145 144 116 136 192 156 142 109 162 165 148\n",
      " 172 173 146 179 152 117 115 112 163 147 182 105 150 151 169 166 178 132\n",
      " 160 123 139 111 180 164 202 157 159 170 138 175 158 126 143 141 167  95\n",
      " 190 118 103 181 108 177 134 120 171 149 154 153  88 174 114 195 133  96\n",
      " 124 131 185 194 128 127 186 184 188 130  71 137  99 121 187  97  90 129\n",
      " 113]\n",
      "Maximum:  202\n",
      "Minimum:  71\n",
      "--------------------------------------------------\n",
      "exang: [0 1]\n",
      "Maximum:  1\n",
      "Minimum:  0\n",
      "--------------------------------------------------\n",
      "oldpeak: [1.  3.1 2.6 0.  1.9 4.4 0.8 3.2 1.6 3.  0.7 4.2 1.5 2.2 1.1 0.3 0.4 0.6\n",
      " 3.4 2.8 1.2 2.9 3.6 1.4 0.2 2.  5.6 0.9 1.8 6.2 4.  2.5 0.5 0.1 2.1 2.4\n",
      " 3.8 2.3 1.3 3.5]\n",
      "Maximum:  6.2\n",
      "Minimum:  0.0\n",
      "--------------------------------------------------\n",
      "slope: [2 0 1]\n",
      "Maximum:  2\n",
      "Minimum:  0\n",
      "--------------------------------------------------\n",
      "ca: [2 0 1 3 4]\n",
      "Maximum:  4\n",
      "Minimum:  0\n",
      "--------------------------------------------------\n",
      "thal: [3 2 1 0]\n",
      "Maximum:  3\n",
      "Minimum:  0\n",
      "--------------------------------------------------\n",
      "target: [0 1]\n",
      "Maximum:  1\n",
      "Minimum:  0\n",
      "--------------------------------------------------\n"
     ]
    }
   ],
   "source": [
    "for col in df.columns:\n",
    "    print(f\"{col}: {df[col].unique()}\")\n",
    "    print(\"Maximum: \", df[col].max())\n",
    "    print(\"Minimum: \", df[col].min())\n",
    "    print(\"-\" * 50)"
   ]
  },
  {
   "cell_type": "code",
   "execution_count": 20,
   "metadata": {},
   "outputs": [
    {
     "name": "stdout",
     "output_type": "stream",
     "text": [
      "        age  sex  cp  trestbps      chol  fbs  restecg   thalach  exang  \\\n",
      "0 -0.268437    1   0 -0.377636 -0.659332    0        1  0.821321      0   \n",
      "1 -0.158157    1   0  0.479107 -0.833861    1        0  0.255968      1   \n",
      "2  1.716595    1   0  0.764688 -1.396233    0        1 -1.048692      1   \n",
      "3  0.724079    1   0  0.936037 -0.833861    0        1  0.516900      0   \n",
      "4  0.834359    0   0  0.364875  0.930822    1        1 -1.874977      0   \n",
      "\n",
      "    oldpeak  slope  ca  thal  target  \n",
      "0 -0.060888      2   2     3       0  \n",
      "1  1.727137      0   0     3       0  \n",
      "2  1.301417      0   0     3       0  \n",
      "3 -0.912329      2   1     3       0  \n",
      "4  0.705408      1   3     2       0  \n"
     ]
    }
   ],
   "source": [
    "scaler = StandardScaler()\n",
    "continous_col = ['age', 'trestbps', 'chol', 'thalach', 'oldpeak']\n",
    "df[continous_col] = scaler.fit_transform(df[continous_col])\n",
    "print(df.head())"
   ]
  },
  {
   "cell_type": "code",
   "execution_count": 21,
   "metadata": {},
   "outputs": [
    {
     "name": "stdout",
     "output_type": "stream",
     "text": [
      "        age  sex  cp  trestbps      chol  fbs  restecg   thalach  exang  \\\n",
      "0 -0.268437    1   0 -0.377636 -0.659332    0        1  0.821321      0   \n",
      "1 -0.158157    1   0  0.479107 -0.833861    1        0  0.255968      1   \n",
      "2  1.716595    1   0  0.764688 -1.396233    0        1 -1.048692      1   \n",
      "3  0.724079    1   0  0.936037 -0.833861    0        1  0.516900      0   \n",
      "4  0.834359    0   0  0.364875  0.930822    1        1 -1.874977      0   \n",
      "\n",
      "    oldpeak  slope  ca  thal  target  \n",
      "0 -0.060888      2   2     3       0  \n",
      "1  1.727137      0   0     3       0  \n",
      "2  1.301417      0   0     3       0  \n",
      "3 -0.912329      2   1     3       0  \n",
      "4  0.705408      1   3     2       0  \n"
     ]
    }
   ],
   "source": [
    "label_encoder = LabelEncoder()\n",
    "oridinal_col = ['restecg', 'slope', 'ca',]\n",
    "df[oridinal_col] = df[oridinal_col].apply(label_encoder.fit_transform)\n",
    "print(df.head())"
   ]
  },
  {
   "cell_type": "code",
   "execution_count": 22,
   "metadata": {},
   "outputs": [
    {
     "name": "stdout",
     "output_type": "stream",
     "text": [
      "        age  sex  cp  trestbps      chol  fbs  restecg   thalach  exang  \\\n",
      "0 -0.268437    1   0 -0.377636 -0.659332    0        1  0.821321      0   \n",
      "1 -0.158157    1   0  0.479107 -0.833861    1        0  0.255968      1   \n",
      "2  1.716595    1   0  0.764688 -1.396233    0        1 -1.048692      1   \n",
      "3  0.724079    1   0  0.936037 -0.833861    0        1  0.516900      0   \n",
      "4  0.834359    0   0  0.364875  0.930822    1        1 -1.874977      0   \n",
      "\n",
      "    oldpeak  slope  ca  thal  target  \n",
      "0 -0.060888      2   2     3       0  \n",
      "1  1.727137      0   0     3       0  \n",
      "2  1.301417      0   0     3       0  \n",
      "3 -0.912329      2   1     3       0  \n",
      "4  0.705408      1   3     2       0  \n"
     ]
    }
   ],
   "source": [
    "pd.get_dummies(df, columns=['cp', 'thal'], drop_first=True)\n",
    "print(df.head())"
   ]
  },
  {
   "cell_type": "code",
   "execution_count": 23,
   "metadata": {},
   "outputs": [
    {
     "data": {
      "text/plain": [
       "target\n",
       "1    526\n",
       "0    499\n",
       "Name: count, dtype: int64"
      ]
     },
     "execution_count": 23,
     "metadata": {},
     "output_type": "execute_result"
    }
   ],
   "source": [
    "label_count = df['target'].value_counts()\n",
    "label_count"
   ]
  },
  {
   "cell_type": "code",
   "execution_count": 24,
   "metadata": {},
   "outputs": [],
   "source": [
    "features = df.drop('target', axis=1)\n",
    "target = df['target']\n",
    "\n",
    "X_train, X_test, y_train, y_test = train_test_split(features, target, test_size=0.2, random_state=42)"
   ]
  },
  {
   "cell_type": "code",
   "execution_count": 25,
   "metadata": {},
   "outputs": [
    {
     "name": "stdout",
     "output_type": "stream",
     "text": [
      "Scaler saved at: c:\\MachineLearning\\DiseaseAndCancerTrackers\\Models\\SavedModels\\HeartDiseaseScaler.pkl\n"
     ]
    }
   ],
   "source": [
    "scaler_save_path = Path.cwd()/'SavedModels'/'HeartDiseaseScaler.pkl'\n",
    "scaler_save_path.parent.mkdir(parents=True, exist_ok=True)\n",
    "joblib.dump(scaler, scaler_save_path)\n",
    "print(f\"Scaler saved at: {scaler_save_path}\")"
   ]
  },
  {
   "cell_type": "code",
   "execution_count": 26,
   "metadata": {},
   "outputs": [],
   "source": [
    "class HeartDiseaseClassification(nn.Module):\n",
    "    def __init__(self, input_dim, output_dim):\n",
    "        self.model = nn.Sequential(\n",
    "            nn.Linear(input_dim, 128),\n",
    "            nn.ReLU(),\n",
    "            nn.Linear(128, 64),\n",
    "            nn.ReLU(),\n",
    "            nn.Linear(64, output_dim),\n",
    "            nn.Sigmoid()\n",
    "        )\n",
    "\n",
    "    def forward(self, x):\n",
    "        return self.model(x)\n",
    "    \n",
    "    def predict(self, input_data, return_confidence=False):\n",
    "        self.eval()\n",
    "        with torch.no_grad():\n",
    "            input_tensor = torch.tensor(input_data, dtype=torch.float32)    \n",
    "            output = self(input_tensor)\n",
    "            confidence = output.item()\n",
    "            prediction = 1 if confidence > 0.5 else 0\n",
    "            if return_confidence:\n",
    "                return prediction, confidence *100\n",
    "            return prediction"
   ]
  },
  {
   "cell_type": "code",
   "execution_count": null,
   "metadata": {},
   "outputs": [],
   "source": [
    "train_dataloader = dl(list(zip(X_train, y_train)), batch_size=32, shuffle=True)\n",
    "test_dataloader = dl(list(zip(X_test, y_test)), batch_size=32, shuffle=False) \n",
    "\n",
    "def train():\n",
    "    model = HeartDiseaseClassification(input_dim=13, output_dim=1)\n",
    "    loss = nn.BCELoss()\n",
    "    optimizer = optim.Adam(model.parameters(), lr=0.001)\n",
    "\n",
    "    trained_models, metrics = hp.train_and_evaluate(model,train_dataloader, test_dataloader,loss, optimizer, epochs=1000)\n",
    "    model_save_path = Path.cwd()/'SavedModels'/'HeartDiseaseModel.pth'\n",
    "    torch.save(model.state_dict(), model_save_path)\n",
    "    print(f\"Model saved at: {model_save_path}\")\n",
    "\n",
    "if __name__ == \"__main__\":\n",
    "    train()\n",
    "    print(\"Training Completed\")"
   ]
  }
 ],
 "metadata": {
  "kernelspec": {
   "display_name": "base",
   "language": "python",
   "name": "python3"
  },
  "language_info": {
   "codemirror_mode": {
    "name": "ipython",
    "version": 3
   },
   "file_extension": ".py",
   "mimetype": "text/x-python",
   "name": "python",
   "nbconvert_exporter": "python",
   "pygments_lexer": "ipython3",
   "version": "3.11.7"
  }
 },
 "nbformat": 4,
 "nbformat_minor": 2
}
